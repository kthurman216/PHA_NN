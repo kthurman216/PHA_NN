{
 "cells": [
  {
   "cell_type": "markdown",
   "id": "10ab8bee-467f-4283-8434-04c5b7946bf7",
   "metadata": {},
   "source": [
    "# Physically Hazardous Asteroid Prediction"
   ]
  },
  {
   "cell_type": "markdown",
   "id": "f64fd758-2566-4fcb-a743-ad4942b708bd",
   "metadata": {},
   "source": [
    "## Data Cleaning and Normalization"
   ]
  },
  {
   "cell_type": "code",
   "execution_count": 1,
   "id": "2b1361ea-4f87-4521-b8f8-2bcbbd0b800c",
   "metadata": {
    "tags": []
   },
   "outputs": [],
   "source": [
    "import numpy as np\n",
    "import pandas as pd\n",
    "import matplotlib.pyplot as plt\n",
    "import seaborn as sns\n",
    "import matplotlib\n",
    "%matplotlib inline"
   ]
  },
  {
   "cell_type": "markdown",
   "id": "b0503ec8-32ba-4e26-afc2-b394b28fa8d3",
   "metadata": {},
   "source": [
    "### Dataset"
   ]
  },
  {
   "cell_type": "code",
   "execution_count": 2,
   "id": "15baf81f-44d8-4c2b-9586-c1ad869d1b6c",
   "metadata": {},
   "outputs": [
    {
     "name": "stdout",
     "output_type": "stream",
     "text": [
      "Number of Datapoints: 4687\n",
      "Number of Features: 40\n"
     ]
    }
   ],
   "source": [
    "#loading dataset, source: https://www.kaggle.com/datasets/lovishbansal123/nasa-asteroids-classification\n",
    "df = pd.read_csv('../nasa.csv')\n",
    "\n",
    "#checking data shape\n",
    "print(\"Number of Datapoints: \" + str(df.shape[0]))\n",
    "print(\"Number of Features: \" + str(df.shape[1]))"
   ]
  },
  {
   "cell_type": "code",
   "execution_count": 3,
   "id": "1fb7d415-03ce-436c-8115-0cae4ae48fbe",
   "metadata": {
    "tags": []
   },
   "outputs": [
    {
     "data": {
      "text/html": [
       "<div>\n",
       "<style scoped>\n",
       "    .dataframe tbody tr th:only-of-type {\n",
       "        vertical-align: middle;\n",
       "    }\n",
       "\n",
       "    .dataframe tbody tr th {\n",
       "        vertical-align: top;\n",
       "    }\n",
       "\n",
       "    .dataframe thead th {\n",
       "        text-align: right;\n",
       "    }\n",
       "</style>\n",
       "<table border=\"1\" class=\"dataframe\">\n",
       "  <thead>\n",
       "    <tr style=\"text-align: right;\">\n",
       "      <th></th>\n",
       "      <th>Neo Reference ID</th>\n",
       "      <th>Name</th>\n",
       "      <th>Absolute Magnitude</th>\n",
       "      <th>Est Dia in KM(min)</th>\n",
       "      <th>Est Dia in KM(max)</th>\n",
       "      <th>Est Dia in M(min)</th>\n",
       "      <th>Est Dia in M(max)</th>\n",
       "      <th>Est Dia in Miles(min)</th>\n",
       "      <th>Est Dia in Miles(max)</th>\n",
       "      <th>Est Dia in Feet(min)</th>\n",
       "      <th>...</th>\n",
       "      <th>Asc Node Longitude</th>\n",
       "      <th>Orbital Period</th>\n",
       "      <th>Perihelion Distance</th>\n",
       "      <th>Perihelion Arg</th>\n",
       "      <th>Aphelion Dist</th>\n",
       "      <th>Perihelion Time</th>\n",
       "      <th>Mean Anomaly</th>\n",
       "      <th>Mean Motion</th>\n",
       "      <th>Equinox</th>\n",
       "      <th>Hazardous</th>\n",
       "    </tr>\n",
       "  </thead>\n",
       "  <tbody>\n",
       "    <tr>\n",
       "      <th>0</th>\n",
       "      <td>3703080</td>\n",
       "      <td>3703080</td>\n",
       "      <td>21.6</td>\n",
       "      <td>0.127220</td>\n",
       "      <td>0.284472</td>\n",
       "      <td>127.219879</td>\n",
       "      <td>284.472297</td>\n",
       "      <td>0.079051</td>\n",
       "      <td>0.176763</td>\n",
       "      <td>417.388066</td>\n",
       "      <td>...</td>\n",
       "      <td>314.373913</td>\n",
       "      <td>609.599786</td>\n",
       "      <td>0.808259</td>\n",
       "      <td>57.257470</td>\n",
       "      <td>2.005764</td>\n",
       "      <td>2.458162e+06</td>\n",
       "      <td>264.837533</td>\n",
       "      <td>0.590551</td>\n",
       "      <td>J2000</td>\n",
       "      <td>True</td>\n",
       "    </tr>\n",
       "    <tr>\n",
       "      <th>1</th>\n",
       "      <td>3723955</td>\n",
       "      <td>3723955</td>\n",
       "      <td>21.3</td>\n",
       "      <td>0.146068</td>\n",
       "      <td>0.326618</td>\n",
       "      <td>146.067964</td>\n",
       "      <td>326.617897</td>\n",
       "      <td>0.090762</td>\n",
       "      <td>0.202951</td>\n",
       "      <td>479.225620</td>\n",
       "      <td>...</td>\n",
       "      <td>136.717242</td>\n",
       "      <td>425.869294</td>\n",
       "      <td>0.718200</td>\n",
       "      <td>313.091975</td>\n",
       "      <td>1.497352</td>\n",
       "      <td>2.457795e+06</td>\n",
       "      <td>173.741112</td>\n",
       "      <td>0.845330</td>\n",
       "      <td>J2000</td>\n",
       "      <td>False</td>\n",
       "    </tr>\n",
       "    <tr>\n",
       "      <th>2</th>\n",
       "      <td>2446862</td>\n",
       "      <td>2446862</td>\n",
       "      <td>20.3</td>\n",
       "      <td>0.231502</td>\n",
       "      <td>0.517654</td>\n",
       "      <td>231.502122</td>\n",
       "      <td>517.654482</td>\n",
       "      <td>0.143849</td>\n",
       "      <td>0.321655</td>\n",
       "      <td>759.521423</td>\n",
       "      <td>...</td>\n",
       "      <td>259.475979</td>\n",
       "      <td>643.580228</td>\n",
       "      <td>0.950791</td>\n",
       "      <td>248.415038</td>\n",
       "      <td>1.966857</td>\n",
       "      <td>2.458120e+06</td>\n",
       "      <td>292.893654</td>\n",
       "      <td>0.559371</td>\n",
       "      <td>J2000</td>\n",
       "      <td>True</td>\n",
       "    </tr>\n",
       "    <tr>\n",
       "      <th>3</th>\n",
       "      <td>3092506</td>\n",
       "      <td>3092506</td>\n",
       "      <td>27.4</td>\n",
       "      <td>0.008801</td>\n",
       "      <td>0.019681</td>\n",
       "      <td>8.801465</td>\n",
       "      <td>19.680675</td>\n",
       "      <td>0.005469</td>\n",
       "      <td>0.012229</td>\n",
       "      <td>28.876199</td>\n",
       "      <td>...</td>\n",
       "      <td>57.173266</td>\n",
       "      <td>514.082140</td>\n",
       "      <td>0.983902</td>\n",
       "      <td>18.707701</td>\n",
       "      <td>1.527904</td>\n",
       "      <td>2.457902e+06</td>\n",
       "      <td>68.741007</td>\n",
       "      <td>0.700277</td>\n",
       "      <td>J2000</td>\n",
       "      <td>False</td>\n",
       "    </tr>\n",
       "    <tr>\n",
       "      <th>4</th>\n",
       "      <td>3514799</td>\n",
       "      <td>3514799</td>\n",
       "      <td>21.6</td>\n",
       "      <td>0.127220</td>\n",
       "      <td>0.284472</td>\n",
       "      <td>127.219879</td>\n",
       "      <td>284.472297</td>\n",
       "      <td>0.079051</td>\n",
       "      <td>0.176763</td>\n",
       "      <td>417.388066</td>\n",
       "      <td>...</td>\n",
       "      <td>84.629307</td>\n",
       "      <td>495.597821</td>\n",
       "      <td>0.967687</td>\n",
       "      <td>158.263596</td>\n",
       "      <td>1.483543</td>\n",
       "      <td>2.457814e+06</td>\n",
       "      <td>135.142133</td>\n",
       "      <td>0.726395</td>\n",
       "      <td>J2000</td>\n",
       "      <td>True</td>\n",
       "    </tr>\n",
       "  </tbody>\n",
       "</table>\n",
       "<p>5 rows × 40 columns</p>\n",
       "</div>"
      ],
      "text/plain": [
       "   Neo Reference ID     Name  Absolute Magnitude  Est Dia in KM(min)  \\\n",
       "0           3703080  3703080                21.6            0.127220   \n",
       "1           3723955  3723955                21.3            0.146068   \n",
       "2           2446862  2446862                20.3            0.231502   \n",
       "3           3092506  3092506                27.4            0.008801   \n",
       "4           3514799  3514799                21.6            0.127220   \n",
       "\n",
       "   Est Dia in KM(max)  Est Dia in M(min)  Est Dia in M(max)  \\\n",
       "0            0.284472         127.219879         284.472297   \n",
       "1            0.326618         146.067964         326.617897   \n",
       "2            0.517654         231.502122         517.654482   \n",
       "3            0.019681           8.801465          19.680675   \n",
       "4            0.284472         127.219879         284.472297   \n",
       "\n",
       "   Est Dia in Miles(min)  Est Dia in Miles(max)  Est Dia in Feet(min)  ...  \\\n",
       "0               0.079051               0.176763            417.388066  ...   \n",
       "1               0.090762               0.202951            479.225620  ...   \n",
       "2               0.143849               0.321655            759.521423  ...   \n",
       "3               0.005469               0.012229             28.876199  ...   \n",
       "4               0.079051               0.176763            417.388066  ...   \n",
       "\n",
       "   Asc Node Longitude Orbital Period  Perihelion Distance  Perihelion Arg  \\\n",
       "0          314.373913     609.599786             0.808259       57.257470   \n",
       "1          136.717242     425.869294             0.718200      313.091975   \n",
       "2          259.475979     643.580228             0.950791      248.415038   \n",
       "3           57.173266     514.082140             0.983902       18.707701   \n",
       "4           84.629307     495.597821             0.967687      158.263596   \n",
       "\n",
       "   Aphelion Dist  Perihelion Time  Mean Anomaly  Mean Motion  Equinox  \\\n",
       "0       2.005764     2.458162e+06    264.837533     0.590551    J2000   \n",
       "1       1.497352     2.457795e+06    173.741112     0.845330    J2000   \n",
       "2       1.966857     2.458120e+06    292.893654     0.559371    J2000   \n",
       "3       1.527904     2.457902e+06     68.741007     0.700277    J2000   \n",
       "4       1.483543     2.457814e+06    135.142133     0.726395    J2000   \n",
       "\n",
       "   Hazardous  \n",
       "0       True  \n",
       "1      False  \n",
       "2       True  \n",
       "3      False  \n",
       "4       True  \n",
       "\n",
       "[5 rows x 40 columns]"
      ]
     },
     "execution_count": 3,
     "metadata": {},
     "output_type": "execute_result"
    }
   ],
   "source": [
    "#examining dataset\n",
    "df.head()"
   ]
  },
  {
   "cell_type": "code",
   "execution_count": 4,
   "id": "e81525cd-6068-4d45-a091-b9bf89ca4bcc",
   "metadata": {
    "tags": []
   },
   "outputs": [
    {
     "data": {
      "text/plain": [
       "Neo Reference ID                0\n",
       "Name                            0\n",
       "Absolute Magnitude              0\n",
       "Est Dia in KM(min)              0\n",
       "Est Dia in KM(max)              0\n",
       "Est Dia in M(min)               0\n",
       "Est Dia in M(max)               0\n",
       "Est Dia in Miles(min)           0\n",
       "Est Dia in Miles(max)           0\n",
       "Est Dia in Feet(min)            0\n",
       "Est Dia in Feet(max)            0\n",
       "Close Approach Date             0\n",
       "Epoch Date Close Approach       0\n",
       "Relative Velocity km per sec    0\n",
       "Relative Velocity km per hr     0\n",
       "Miles per hour                  0\n",
       "Miss Dist.(Astronomical)        0\n",
       "Miss Dist.(lunar)               0\n",
       "Miss Dist.(kilometers)          0\n",
       "Miss Dist.(miles)               0\n",
       "Orbiting Body                   0\n",
       "Orbit ID                        0\n",
       "Orbit Determination Date        0\n",
       "Orbit Uncertainity              0\n",
       "Minimum Orbit Intersection      0\n",
       "Jupiter Tisserand Invariant     0\n",
       "Epoch Osculation                0\n",
       "Eccentricity                    0\n",
       "Semi Major Axis                 0\n",
       "Inclination                     0\n",
       "Asc Node Longitude              0\n",
       "Orbital Period                  0\n",
       "Perihelion Distance             0\n",
       "Perihelion Arg                  0\n",
       "Aphelion Dist                   0\n",
       "Perihelion Time                 0\n",
       "Mean Anomaly                    0\n",
       "Mean Motion                     0\n",
       "Equinox                         0\n",
       "Hazardous                       0\n",
       "dtype: int64"
      ]
     },
     "execution_count": 4,
     "metadata": {},
     "output_type": "execute_result"
    }
   ],
   "source": [
    "#checking data for null values\n",
    "df.isna().sum()"
   ]
  },
  {
   "cell_type": "code",
   "execution_count": 5,
   "id": "ce920360-b0bb-4709-a64d-9b0aea7a8cb1",
   "metadata": {
    "tags": []
   },
   "outputs": [
    {
     "name": "stdout",
     "output_type": "stream",
     "text": [
      "<class 'pandas.core.frame.DataFrame'>\n",
      "RangeIndex: 4687 entries, 0 to 4686\n",
      "Data columns (total 40 columns):\n",
      " #   Column                        Non-Null Count  Dtype  \n",
      "---  ------                        --------------  -----  \n",
      " 0   Neo Reference ID              4687 non-null   int64  \n",
      " 1   Name                          4687 non-null   int64  \n",
      " 2   Absolute Magnitude            4687 non-null   float64\n",
      " 3   Est Dia in KM(min)            4687 non-null   float64\n",
      " 4   Est Dia in KM(max)            4687 non-null   float64\n",
      " 5   Est Dia in M(min)             4687 non-null   float64\n",
      " 6   Est Dia in M(max)             4687 non-null   float64\n",
      " 7   Est Dia in Miles(min)         4687 non-null   float64\n",
      " 8   Est Dia in Miles(max)         4687 non-null   float64\n",
      " 9   Est Dia in Feet(min)          4687 non-null   float64\n",
      " 10  Est Dia in Feet(max)          4687 non-null   float64\n",
      " 11  Close Approach Date           4687 non-null   object \n",
      " 12  Epoch Date Close Approach     4687 non-null   int64  \n",
      " 13  Relative Velocity km per sec  4687 non-null   float64\n",
      " 14  Relative Velocity km per hr   4687 non-null   float64\n",
      " 15  Miles per hour                4687 non-null   float64\n",
      " 16  Miss Dist.(Astronomical)      4687 non-null   float64\n",
      " 17  Miss Dist.(lunar)             4687 non-null   float64\n",
      " 18  Miss Dist.(kilometers)        4687 non-null   float64\n",
      " 19  Miss Dist.(miles)             4687 non-null   float64\n",
      " 20  Orbiting Body                 4687 non-null   object \n",
      " 21  Orbit ID                      4687 non-null   int64  \n",
      " 22  Orbit Determination Date      4687 non-null   object \n",
      " 23  Orbit Uncertainity            4687 non-null   int64  \n",
      " 24  Minimum Orbit Intersection    4687 non-null   float64\n",
      " 25  Jupiter Tisserand Invariant   4687 non-null   float64\n",
      " 26  Epoch Osculation              4687 non-null   float64\n",
      " 27  Eccentricity                  4687 non-null   float64\n",
      " 28  Semi Major Axis               4687 non-null   float64\n",
      " 29  Inclination                   4687 non-null   float64\n",
      " 30  Asc Node Longitude            4687 non-null   float64\n",
      " 31  Orbital Period                4687 non-null   float64\n",
      " 32  Perihelion Distance           4687 non-null   float64\n",
      " 33  Perihelion Arg                4687 non-null   float64\n",
      " 34  Aphelion Dist                 4687 non-null   float64\n",
      " 35  Perihelion Time               4687 non-null   float64\n",
      " 36  Mean Anomaly                  4687 non-null   float64\n",
      " 37  Mean Motion                   4687 non-null   float64\n",
      " 38  Equinox                       4687 non-null   object \n",
      " 39  Hazardous                     4687 non-null   bool   \n",
      "dtypes: bool(1), float64(30), int64(5), object(4)\n",
      "memory usage: 1.4+ MB\n"
     ]
    }
   ],
   "source": [
    "#examining data types\n",
    "df.info()"
   ]
  },
  {
   "cell_type": "markdown",
   "id": "538034d3-faab-435b-add4-0524f56102f9",
   "metadata": {},
   "source": [
    "### Data Preparation"
   ]
  },
  {
   "cell_type": "markdown",
   "id": "6da9e152-9c37-4655-a88c-8922e1db7920",
   "metadata": {},
   "source": [
    "The 'name' and 'Neo Reference ID' columns will likely be dropped as they are used to identify objects but don't necessarily have any bearing on the determination of an asteroid. Along with these, the 'Close Approach Date', 'Orbiting Body', 'Orbit Determination Date', and 'Equinox' columns will be removed, because these non-numeric data types are difficult to process and are not listed among the determining factors in a PHA."
   ]
  },
  {
   "cell_type": "code",
   "execution_count": 6,
   "id": "8997cf3a-aba6-4c16-ba3e-405d3ed4a586",
   "metadata": {
    "tags": []
   },
   "outputs": [],
   "source": [
    "df.drop(['Neo Reference ID', 'Name', 'Close Approach Date', 'Orbiting Body', \n",
    "         'Orbit Determination Date', 'Equinox'], axis=1, inplace=True)"
   ]
  },
  {
   "cell_type": "markdown",
   "id": "1c3903e1-cbba-4e95-8ffa-82b952e0c155",
   "metadata": {},
   "source": [
    "Prediction of Potentially Hazardous Asteroids (PHAs) are complex problems with a number of factors. For the sake of simplicity in this project and for greater control over the model and its features, we will focus on the most vital aspects of determining what asteroids/comets are Near Earth Objects (NEOs) and which of these objects are PHAs."
   ]
  },
  {
   "cell_type": "code",
   "execution_count": 7,
   "id": "b5056d83-30c0-45e6-9c4f-dd5fee3a2c50",
   "metadata": {},
   "outputs": [],
   "source": [
    "df.drop(['Est Dia in KM(min)', 'Est Dia in KM(max)', 'Est Dia in Miles(min)', 'Est Dia in Miles(max)',\n",
    "        'Est Dia in Feet(min)', 'Est Dia in Feet(max)', 'Relative Velocity km per hr',\n",
    "        'Miles per hour', 'Miss Dist.(miles)', 'Miss Dist.(lunar)', 'Miss Dist.(Astronomical)', 'Epoch Date Close Approach',\n",
    "        'Orbit ID', 'Jupiter Tisserand Invariant', 'Epoch Osculation', 'Relative Velocity km per sec',\n",
    "        'Orbit Uncertainity', 'Eccentricity', 'Inclination', 'Asc Node Longitude', 'Perihelion Arg',\n",
    "        'Perihelion Time', 'Mean Anomaly', 'Mean Motion'], axis=1, inplace=True)"
   ]
  },
  {
   "cell_type": "markdown",
   "id": "6ca505fc-431f-4e35-bc30-6738bc259c1b",
   "metadata": {},
   "source": [
    "The output label is currently a boolean data type. We will change the output label to a numeric data type."
   ]
  },
  {
   "cell_type": "code",
   "execution_count": 8,
   "id": "175bf875-6557-4ba6-ada4-0d3d5100b2ac",
   "metadata": {
    "tags": []
   },
   "outputs": [],
   "source": [
    "df['Hazardous'] = df['Hazardous'].astype(int)"
   ]
  },
  {
   "cell_type": "markdown",
   "id": "88254144-f900-428e-b2cb-4ae5420cca0a",
   "metadata": {},
   "source": [
    "#### Final Dataset Shape"
   ]
  },
  {
   "cell_type": "code",
   "execution_count": 9,
   "id": "f0a5d7c8-e30c-455c-add3-0cf644b99aa6",
   "metadata": {
    "tags": []
   },
   "outputs": [
    {
     "name": "stdout",
     "output_type": "stream",
     "text": [
      "Number of Datapoints: 4687\n",
      "Number of Features: 10\n"
     ]
    }
   ],
   "source": [
    "#verifying final counts of rows and columns\n",
    "print(\"Number of Datapoints: \" + str(df.shape[0]))\n",
    "print(\"Number of Features: \" + str(df.shape[1]))"
   ]
  },
  {
   "cell_type": "markdown",
   "id": "14f7c6e1-decf-49cf-8299-01cc0dbc3042",
   "metadata": {},
   "source": [
    "### Examining Dataset Features"
   ]
  },
  {
   "cell_type": "code",
   "execution_count": 10,
   "id": "b42fefac-ff4f-4a84-b906-5cd432dd7b41",
   "metadata": {
    "tags": []
   },
   "outputs": [
    {
     "data": {
      "text/html": [
       "<div>\n",
       "<style scoped>\n",
       "    .dataframe tbody tr th:only-of-type {\n",
       "        vertical-align: middle;\n",
       "    }\n",
       "\n",
       "    .dataframe tbody tr th {\n",
       "        vertical-align: top;\n",
       "    }\n",
       "\n",
       "    .dataframe thead th {\n",
       "        text-align: right;\n",
       "    }\n",
       "</style>\n",
       "<table border=\"1\" class=\"dataframe\">\n",
       "  <thead>\n",
       "    <tr style=\"text-align: right;\">\n",
       "      <th></th>\n",
       "      <th>Absolute Magnitude</th>\n",
       "      <th>Est Dia in M(min)</th>\n",
       "      <th>Est Dia in M(max)</th>\n",
       "      <th>Miss Dist.(kilometers)</th>\n",
       "      <th>Minimum Orbit Intersection</th>\n",
       "      <th>Semi Major Axis</th>\n",
       "      <th>Orbital Period</th>\n",
       "      <th>Perihelion Distance</th>\n",
       "      <th>Aphelion Dist</th>\n",
       "      <th>Hazardous</th>\n",
       "    </tr>\n",
       "  </thead>\n",
       "  <tbody>\n",
       "    <tr>\n",
       "      <th>count</th>\n",
       "      <td>4687.000000</td>\n",
       "      <td>4687.000000</td>\n",
       "      <td>4687.000000</td>\n",
       "      <td>4.687000e+03</td>\n",
       "      <td>4687.000000</td>\n",
       "      <td>4687.000000</td>\n",
       "      <td>4687.000000</td>\n",
       "      <td>4687.000000</td>\n",
       "      <td>4687.000000</td>\n",
       "      <td>4687.000000</td>\n",
       "    </tr>\n",
       "    <tr>\n",
       "      <th>mean</th>\n",
       "      <td>22.267865</td>\n",
       "      <td>204.604203</td>\n",
       "      <td>457.508906</td>\n",
       "      <td>3.841347e+07</td>\n",
       "      <td>0.082320</td>\n",
       "      <td>1.400264</td>\n",
       "      <td>635.582076</td>\n",
       "      <td>0.813383</td>\n",
       "      <td>1.987144</td>\n",
       "      <td>0.161084</td>\n",
       "    </tr>\n",
       "    <tr>\n",
       "      <th>std</th>\n",
       "      <td>2.890972</td>\n",
       "      <td>369.573402</td>\n",
       "      <td>826.391249</td>\n",
       "      <td>2.181110e+07</td>\n",
       "      <td>0.090300</td>\n",
       "      <td>0.524154</td>\n",
       "      <td>370.954727</td>\n",
       "      <td>0.242059</td>\n",
       "      <td>0.951519</td>\n",
       "      <td>0.367647</td>\n",
       "    </tr>\n",
       "    <tr>\n",
       "      <th>min</th>\n",
       "      <td>11.160000</td>\n",
       "      <td>1.010543</td>\n",
       "      <td>2.259644</td>\n",
       "      <td>2.660989e+04</td>\n",
       "      <td>0.000002</td>\n",
       "      <td>0.615920</td>\n",
       "      <td>176.557161</td>\n",
       "      <td>0.080744</td>\n",
       "      <td>0.803765</td>\n",
       "      <td>0.000000</td>\n",
       "    </tr>\n",
       "    <tr>\n",
       "      <th>25%</th>\n",
       "      <td>20.100000</td>\n",
       "      <td>33.462237</td>\n",
       "      <td>74.823838</td>\n",
       "      <td>1.995928e+07</td>\n",
       "      <td>0.014585</td>\n",
       "      <td>1.000635</td>\n",
       "      <td>365.605031</td>\n",
       "      <td>0.630834</td>\n",
       "      <td>1.266059</td>\n",
       "      <td>0.000000</td>\n",
       "    </tr>\n",
       "    <tr>\n",
       "      <th>50%</th>\n",
       "      <td>21.900000</td>\n",
       "      <td>110.803882</td>\n",
       "      <td>247.765013</td>\n",
       "      <td>3.964771e+07</td>\n",
       "      <td>0.047365</td>\n",
       "      <td>1.240981</td>\n",
       "      <td>504.947292</td>\n",
       "      <td>0.833153</td>\n",
       "      <td>1.618195</td>\n",
       "      <td>0.000000</td>\n",
       "    </tr>\n",
       "    <tr>\n",
       "      <th>75%</th>\n",
       "      <td>24.500000</td>\n",
       "      <td>253.837029</td>\n",
       "      <td>567.596853</td>\n",
       "      <td>5.746863e+07</td>\n",
       "      <td>0.123593</td>\n",
       "      <td>1.678364</td>\n",
       "      <td>794.195972</td>\n",
       "      <td>0.997227</td>\n",
       "      <td>2.451171</td>\n",
       "      <td>0.000000</td>\n",
       "    </tr>\n",
       "    <tr>\n",
       "      <th>max</th>\n",
       "      <td>32.100000</td>\n",
       "      <td>15579.552413</td>\n",
       "      <td>34836.938254</td>\n",
       "      <td>7.478160e+07</td>\n",
       "      <td>0.477891</td>\n",
       "      <td>5.072008</td>\n",
       "      <td>4172.231343</td>\n",
       "      <td>1.299832</td>\n",
       "      <td>8.983852</td>\n",
       "      <td>1.000000</td>\n",
       "    </tr>\n",
       "  </tbody>\n",
       "</table>\n",
       "</div>"
      ],
      "text/plain": [
       "       Absolute Magnitude  Est Dia in M(min)  Est Dia in M(max)  \\\n",
       "count         4687.000000        4687.000000        4687.000000   \n",
       "mean            22.267865         204.604203         457.508906   \n",
       "std              2.890972         369.573402         826.391249   \n",
       "min             11.160000           1.010543           2.259644   \n",
       "25%             20.100000          33.462237          74.823838   \n",
       "50%             21.900000         110.803882         247.765013   \n",
       "75%             24.500000         253.837029         567.596853   \n",
       "max             32.100000       15579.552413       34836.938254   \n",
       "\n",
       "       Miss Dist.(kilometers)  Minimum Orbit Intersection  Semi Major Axis  \\\n",
       "count            4.687000e+03                 4687.000000      4687.000000   \n",
       "mean             3.841347e+07                    0.082320         1.400264   \n",
       "std              2.181110e+07                    0.090300         0.524154   \n",
       "min              2.660989e+04                    0.000002         0.615920   \n",
       "25%              1.995928e+07                    0.014585         1.000635   \n",
       "50%              3.964771e+07                    0.047365         1.240981   \n",
       "75%              5.746863e+07                    0.123593         1.678364   \n",
       "max              7.478160e+07                    0.477891         5.072008   \n",
       "\n",
       "       Orbital Period  Perihelion Distance  Aphelion Dist    Hazardous  \n",
       "count     4687.000000          4687.000000    4687.000000  4687.000000  \n",
       "mean       635.582076             0.813383       1.987144     0.161084  \n",
       "std        370.954727             0.242059       0.951519     0.367647  \n",
       "min        176.557161             0.080744       0.803765     0.000000  \n",
       "25%        365.605031             0.630834       1.266059     0.000000  \n",
       "50%        504.947292             0.833153       1.618195     0.000000  \n",
       "75%        794.195972             0.997227       2.451171     0.000000  \n",
       "max       4172.231343             1.299832       8.983852     1.000000  "
      ]
     },
     "execution_count": 10,
     "metadata": {},
     "output_type": "execute_result"
    }
   ],
   "source": [
    "df.describe()"
   ]
  },
  {
   "cell_type": "markdown",
   "id": "3daaf91f-47a7-4676-bdbd-1a521ad9955a",
   "metadata": {},
   "source": [
    "### Feature Correlation"
   ]
  },
  {
   "cell_type": "code",
   "execution_count": 11,
   "id": "f1ed9b5e-dc82-4610-9a47-a94b8e83c25b",
   "metadata": {
    "tags": []
   },
   "outputs": [
    {
     "data": {
      "image/png": "[encoded data removed]",
      "text/plain": [
       "<Figure size 2000x1000 with 2 Axes>"
      ]
     },
     "metadata": {},
     "output_type": "display_data"
    }
   ],
   "source": [
    "plt.figure(figsize = (20, 10))\n",
    "sns.heatmap(df.corr(), cmap='GnBu', annot=True, fmt='.2f')\n",
    "plt.title('Correlation Map')\n",
    "plt.show()"
   ]
  },
  {
   "cell_type": "markdown",
   "id": "cad53c57-52f9-416c-af0d-813d2f20134a",
   "metadata": {},
   "source": [
    "### Distribution of Input Features"
   ]
  },
  {
   "cell_type": "code",
   "execution_count": 12,
   "id": "65d1e6ea-3444-4318-bb3b-43aa8d7f9d3f",
   "metadata": {
    "tags": []
   },
   "outputs": [
    {
     "data": {
      "image/png": "[encoded data removed]",
      "text/plain": [
       "<Figure size 400x200 with 1 Axes>"
      ]
     },
     "metadata": {},
     "output_type": "display_data"
    },
    {
     "data": {
      "image/png": "[encoded data removed]",
      "text/plain": [
       "<Figure size 400x200 with 1 Axes>"
      ]
     },
     "metadata": {},
     "output_type": "display_data"
    },
    {
     "data": {
      "image/png": "[encoded data removed]",
      "text/plain": [
       "<Figure size 400x200 with 1 Axes>"
      ]
     },
     "metadata": {},
     "output_type": "display_data"
    },
    {
     "data": {
      "image/png": "[encoded data removed]",
      "text/plain": [
       "<Figure size 400x200 with 1 Axes>"
      ]
     },
     "metadata": {},
     "output_type": "display_data"
    },
    {
     "data": {
      "image/png": "[encoded data removed]",
      "text/plain": [
       "<Figure size 400x200 with 1 Axes>"
      ]
     },
     "metadata": {},
     "output_type": "display_data"
    },
    {
     "data": {
      "image/png": "[encoded data removed]",
      "text/plain": [
       "<Figure size 400x200 with 1 Axes>"
      ]
     },
     "metadata": {},
     "output_type": "display_data"
    },
    {
     "data": {
      "image/png": "[encoded data removed]",
      "text/plain": [
       "<Figure size 400x200 with 1 Axes>"
      ]
     },
     "metadata": {},
     "output_type": "display_data"
    },
    {
     "data": {
      "image/png": "[encoded data removed]",
      "text/plain": [
       "<Figure size 400x200 with 1 Axes>"
      ]
     },
     "metadata": {},
     "output_type": "display_data"
    },
    {
     "data": {
      "image/png": "[encoded data removed]",
      "text/plain": [
       "<Figure size 400x200 with 1 Axes>"
      ]
     },
     "metadata": {},
     "output_type": "display_data"
    }
   ],
   "source": [
    "input_features = ['Absolute Magnitude', 'Est Dia in M(min)', 'Est Dia in M(max)', 'Miss Dist.(kilometers)', \n",
    "                 'Minimum Orbit Intersection', 'Semi Major Axis', 'Orbital Period', 'Perihelion Distance',\n",
    "                 'Aphelion Dist']\n",
    "\n",
    "for feature in input_features:\n",
    "    plt.figure(figsize = (4,2))\n",
    "    plt.hist(df[feature])\n",
    "    plt.title(feature)\n",
    "    plt.show()"
   ]
  },
  {
   "cell_type": "markdown",
   "id": "7e36916c-73b4-4113-acf3-49803d3ed931",
   "metadata": {},
   "source": [
    "### Distribution of Output Label"
   ]
  },
  {
   "cell_type": "code",
   "execution_count": 13,
   "id": "f8983dfe-0157-429a-992c-020fa87d75d3",
   "metadata": {
    "tags": []
   },
   "outputs": [
    {
     "data": {
      "image/png": "[encoded data removed]",
      "text/plain": [
       "<Figure size 400x200 with 1 Axes>"
      ]
     },
     "metadata": {},
     "output_type": "display_data"
    }
   ],
   "source": [
    "#getting label names and category counts\n",
    "labels = ['False', 'True']\n",
    "l_counts = [df['Hazardous'].value_counts()[0], df['Hazardous'].value_counts()[1]]\n",
    "\n",
    "#plotting distribution of output labels as bar chart\n",
    "plt.figure(figsize=(4,2))\n",
    "plt.bar(labels, l_counts)\n",
    "plt.title('Output Label Distribution')\n",
    "plt.show()"
   ]
  },
  {
   "cell_type": "markdown",
   "id": "28b2ea59-0567-4e16-ab54-751a50687a49",
   "metadata": {},
   "source": [
    "Output label is skewed with significantly more values of 0 (False) than 1 (true)."
   ]
  },
  {
   "cell_type": "markdown",
   "id": "fe63f524-6847-4ff7-9816-87fb9bf77dab",
   "metadata": {},
   "source": [
    "### Splitting Data"
   ]
  },
  {
   "cell_type": "code",
   "execution_count": 14,
   "id": "b63d36ee-6ee1-47c6-83ae-179593ff964b",
   "metadata": {
    "tags": []
   },
   "outputs": [],
   "source": [
    "#shuffle dataset\n",
    "df = df.sample(frac = 1)"
   ]
  },
  {
   "cell_type": "code",
   "execution_count": 15,
   "id": "3019265d-669b-43f7-a970-677e198b0750",
   "metadata": {
    "tags": []
   },
   "outputs": [
    {
     "data": {
      "text/html": [
       "<div>\n",
       "<style scoped>\n",
       "    .dataframe tbody tr th:only-of-type {\n",
       "        vertical-align: middle;\n",
       "    }\n",
       "\n",
       "    .dataframe tbody tr th {\n",
       "        vertical-align: top;\n",
       "    }\n",
       "\n",
       "    .dataframe thead th {\n",
       "        text-align: right;\n",
       "    }\n",
       "</style>\n",
       "<table border=\"1\" class=\"dataframe\">\n",
       "  <thead>\n",
       "    <tr style=\"text-align: right;\">\n",
       "      <th></th>\n",
       "      <th>Absolute Magnitude</th>\n",
       "      <th>Est Dia in M(min)</th>\n",
       "      <th>Est Dia in M(max)</th>\n",
       "      <th>Miss Dist.(kilometers)</th>\n",
       "      <th>Minimum Orbit Intersection</th>\n",
       "      <th>Semi Major Axis</th>\n",
       "      <th>Orbital Period</th>\n",
       "      <th>Perihelion Distance</th>\n",
       "      <th>Aphelion Dist</th>\n",
       "      <th>Hazardous</th>\n",
       "    </tr>\n",
       "  </thead>\n",
       "  <tbody>\n",
       "    <tr>\n",
       "      <th>4634</th>\n",
       "      <td>24.0</td>\n",
       "      <td>42.126461</td>\n",
       "      <td>94.197631</td>\n",
       "      <td>2456569.0</td>\n",
       "      <td>0.008859</td>\n",
       "      <td>2.504705</td>\n",
       "      <td>1447.882110</td>\n",
       "      <td>0.883997</td>\n",
       "      <td>4.125412</td>\n",
       "      <td>0</td>\n",
       "    </tr>\n",
       "    <tr>\n",
       "      <th>4595</th>\n",
       "      <td>20.5</td>\n",
       "      <td>211.132445</td>\n",
       "      <td>472.106499</td>\n",
       "      <td>33595844.0</td>\n",
       "      <td>0.215054</td>\n",
       "      <td>2.608384</td>\n",
       "      <td>1538.706274</td>\n",
       "      <td>1.215046</td>\n",
       "      <td>4.001722</td>\n",
       "      <td>0</td>\n",
       "    </tr>\n",
       "    <tr>\n",
       "      <th>512</th>\n",
       "      <td>20.5</td>\n",
       "      <td>211.132445</td>\n",
       "      <td>472.106499</td>\n",
       "      <td>51708436.0</td>\n",
       "      <td>0.128608</td>\n",
       "      <td>1.340534</td>\n",
       "      <td>566.911122</td>\n",
       "      <td>1.037075</td>\n",
       "      <td>1.643992</td>\n",
       "      <td>0</td>\n",
       "    </tr>\n",
       "    <tr>\n",
       "      <th>3936</th>\n",
       "      <td>19.1</td>\n",
       "      <td>402.304580</td>\n",
       "      <td>899.580388</td>\n",
       "      <td>32073156.0</td>\n",
       "      <td>0.193627</td>\n",
       "      <td>2.116163</td>\n",
       "      <td>1124.403342</td>\n",
       "      <td>1.198668</td>\n",
       "      <td>3.033658</td>\n",
       "      <td>0</td>\n",
       "    </tr>\n",
       "    <tr>\n",
       "      <th>2205</th>\n",
       "      <td>23.1</td>\n",
       "      <td>63.760979</td>\n",
       "      <td>142.573883</td>\n",
       "      <td>61014648.0</td>\n",
       "      <td>0.004966</td>\n",
       "      <td>1.307690</td>\n",
       "      <td>546.204655</td>\n",
       "      <td>0.994423</td>\n",
       "      <td>1.620956</td>\n",
       "      <td>0</td>\n",
       "    </tr>\n",
       "  </tbody>\n",
       "</table>\n",
       "</div>"
      ],
      "text/plain": [
       "      Absolute Magnitude  Est Dia in M(min)  Est Dia in M(max)  \\\n",
       "4634                24.0          42.126461          94.197631   \n",
       "4595                20.5         211.132445         472.106499   \n",
       "512                 20.5         211.132445         472.106499   \n",
       "3936                19.1         402.304580         899.580388   \n",
       "2205                23.1          63.760979         142.573883   \n",
       "\n",
       "      Miss Dist.(kilometers)  Minimum Orbit Intersection  Semi Major Axis  \\\n",
       "4634               2456569.0                    0.008859         2.504705   \n",
       "4595              33595844.0                    0.215054         2.608384   \n",
       "512               51708436.0                    0.128608         1.340534   \n",
       "3936              32073156.0                    0.193627         2.116163   \n",
       "2205              61014648.0                    0.004966         1.307690   \n",
       "\n",
       "      Orbital Period  Perihelion Distance  Aphelion Dist  Hazardous  \n",
       "4634     1447.882110             0.883997       4.125412          0  \n",
       "4595     1538.706274             1.215046       4.001722          0  \n",
       "512       566.911122             1.037075       1.643992          0  \n",
       "3936     1124.403342             1.198668       3.033658          0  \n",
       "2205      546.204655             0.994423       1.620956          0  "
      ]
     },
     "execution_count": 15,
     "metadata": {},
     "output_type": "execute_result"
    }
   ],
   "source": [
    "#verifying data shuffled successfully\n",
    "df.head()"
   ]
  },
  {
   "cell_type": "code",
   "execution_count": 16,
   "id": "c2f1fd52-fd1e-4ca8-9caa-9c59fab2e342",
   "metadata": {
    "tags": []
   },
   "outputs": [],
   "source": [
    "#separate into X and Y for input features and output labels\n",
    "X = df.drop(['Hazardous'], axis = 'columns')\n",
    "Y = df['Hazardous']"
   ]
  },
  {
   "cell_type": "code",
   "execution_count": 17,
   "id": "20335913-ccf5-4ffb-8f3f-93f251727a09",
   "metadata": {
    "tags": []
   },
   "outputs": [],
   "source": [
    "#data splitting function\n",
    "def split_set(dataX, dataY, split):\n",
    "    #get number of rows in the dataset\n",
    "    rows = dataX.shape[0]\n",
    "    #test split percentage = 1 - data split (i.e. 20% split means 80% training data)\n",
    "    test_split = 1 - split\n",
    "    #get index to split test set at\n",
    "    test_ind = int(rows * test_split)\n",
    "    #split the datasets\n",
    "    XTRAIN = dataX.iloc[0:test_ind]\n",
    "    XTEST = dataX.iloc[test_ind:]\n",
    "    YTRAIN = dataY.iloc[0:test_ind]\n",
    "    YTEST = dataY.iloc[test_ind:]\n",
    "    #return the X and Y datasets\n",
    "    return XTRAIN, XTEST, YTRAIN, YTEST"
   ]
  },
  {
   "cell_type": "code",
   "execution_count": 18,
   "id": "c3d0d93e-a33c-43c3-b6d7-fc8ba7787f08",
   "metadata": {
    "tags": []
   },
   "outputs": [],
   "source": [
    "XTRAIN, XTEST, YTRAIN, YTEST = split_set(X, Y, 0.2)"
   ]
  },
  {
   "cell_type": "markdown",
   "id": "5d365fe4-b7e9-4c74-997c-91010e4002f3",
   "metadata": {},
   "source": [
    "### Data Normalization"
   ]
  },
  {
   "cell_type": "markdown",
   "id": "25b42894-8ea8-43c8-b730-1cf1e4e95645",
   "metadata": {},
   "source": [
    "#### Data Normalization should be done AFTER data is split into training and testing datasets"
   ]
  },
  {
   "cell_type": "code",
   "execution_count": 19,
   "id": "7de9e0c5-9d78-4ed1-ae2f-95fc964a1072",
   "metadata": {
    "tags": []
   },
   "outputs": [],
   "source": [
    "# Mean normalization\n",
    "#normalizing training st\n",
    "min = XTRAIN.min(axis = 0) \n",
    "max = XTRAIN.max(axis = 0) \n",
    "mean = XTRAIN.mean(axis = 0)\n",
    "XTRAIN_sc = (XTRAIN - mean) / (max - min)\n",
    "\n",
    "#normalizing testing set\n",
    "#min = XTEST.min(axis = 0) \n",
    "#max = XTEST.max(axis = 0) \n",
    "#mean = XTEST.mean(axis = 0)\n",
    "XTEST_sc = (XTEST - mean) / (max - min)"
   ]
  },
  {
   "cell_type": "markdown",
   "id": "e51e51b0-2e6b-4813-9b25-0c85cbf18f1c",
   "metadata": {},
   "source": [
    "### Checking Normalized Data"
   ]
  },
  {
   "cell_type": "code",
   "execution_count": 20,
   "id": "29475550-4b76-401b-b2a7-1b738aa62775",
   "metadata": {
    "tags": []
   },
   "outputs": [
    {
     "data": {
      "image/png": "[encoded data removed]",
      "text/plain": [
       "<Figure size 400x200 with 1 Axes>"
      ]
     },
     "metadata": {},
     "output_type": "display_data"
    },
    {
     "data": {
      "image/png": "[encoded data removed]",
      "text/plain": [
       "<Figure size 400x200 with 1 Axes>"
      ]
     },
     "metadata": {},
     "output_type": "display_data"
    },
    {
     "data": {
      "image/png": "[encoded data removed]",
      "text/plain": [
       "<Figure size 400x200 with 1 Axes>"
      ]
     },
     "metadata": {},
     "output_type": "display_data"
    },
    {
     "data": {
      "image/png": "[encoded data removed]",
      "text/plain": [
       "<Figure size 400x200 with 1 Axes>"
      ]
     },
     "metadata": {},
     "output_type": "display_data"
    },
    {
     "data": {
      "image/png": "[encoded data removed]",
      "text/plain": [
       "<Figure size 400x200 with 1 Axes>"
      ]
     },
     "metadata": {},
     "output_type": "display_data"
    },
    {
     "data": {
      "image/png": "[encoded data removed]",
      "text/plain": [
       "<Figure size 400x200 with 1 Axes>"
      ]
     },
     "metadata": {},
     "output_type": "display_data"
    },
    {
     "data": {
      "image/png": "[encoded data removed]",
      "text/plain": [
       "<Figure size 400x200 with 1 Axes>"
      ]
     },
     "metadata": {},
     "output_type": "display_data"
    },
    {
     "data": {
      "image/png": "[encoded data removed]",
      "text/plain": [
       "<Figure size 400x200 with 1 Axes>"
      ]
     },
     "metadata": {},
     "output_type": "display_data"
    },
    {
     "data": {
      "image/png": "[encoded data removed]",
      "text/plain": [
       "<Figure size 400x200 with 1 Axes>"
      ]
     },
     "metadata": {},
     "output_type": "display_data"
    }
   ],
   "source": [
    "for feature in input_features:\n",
    "    plt.figure(figsize = (4,2))\n",
    "    plt.hist(XTEST_sc[feature])\n",
    "    plt.title(feature)\n",
    "    plt.show()"
   ]
  },
  {
   "cell_type": "markdown",
   "id": "eb59db8a-2c79-4899-a34a-02b949b596c4",
   "metadata": {},
   "source": [
    "### Model Selection and Evaluation"
   ]
  },
  {
   "cell_type": "code",
   "execution_count": 21,
   "id": "93d63827-ee80-4572-956c-bb5f28710215",
   "metadata": {
    "tags": []
   },
   "outputs": [
    {
     "name": "stdout",
     "output_type": "stream",
     "text": [
      "WARNING:tensorflow:From C:\\Users\\Kiko\\anaconda3\\Lib\\site-packages\\keras\\src\\losses.py:2976: The name tf.losses.sparse_softmax_cross_entropy is deprecated. Please use tf.compat.v1.losses.sparse_softmax_cross_entropy instead.\n",
      "\n"
     ]
    }
   ],
   "source": [
    "from keras.models import Sequential\n",
    "from keras.layers import Dense\n",
    "import tensorflow \n",
    "from tensorflow.keras.callbacks import EarlyStopping, ModelCheckpoint"
   ]
  },
  {
   "cell_type": "code",
   "execution_count": 22,
   "id": "0d0e1cd4-bd83-4408-8bd3-4864843e8766",
   "metadata": {
    "tags": []
   },
   "outputs": [],
   "source": [
    "#get dimension of x training set\n",
    "in_dim = X.shape[1]"
   ]
  },
  {
   "cell_type": "markdown",
   "id": "da44169a-234c-498f-8e21-fd2b02d86471",
   "metadata": {},
   "source": [
    "#### Baseline Models"
   ]
  },
  {
   "cell_type": "code",
   "execution_count": 23,
   "id": "fa7acdb0-5c22-4048-a9b6-aae3ce556c20",
   "metadata": {
    "tags": []
   },
   "outputs": [
    {
     "name": "stdout",
     "output_type": "stream",
     "text": [
      "WARNING:tensorflow:From C:\\Users\\Kiko\\anaconda3\\Lib\\site-packages\\keras\\src\\backend.py:873: The name tf.get_default_graph is deprecated. Please use tf.compat.v1.get_default_graph instead.\n",
      "\n"
     ]
    }
   ],
   "source": [
    "#baseline model 1\n",
    "base_model1 = Sequential()\n",
    "base_model1.add(Dense(10, input_dim = in_dim, activation = 'relu'))\n",
    "base_model1.add(Dense(1, activation = 'sigmoid'))\n",
    "\n",
    "#baseline model 2 (1 hidden layer)\n",
    "base_model2 = Sequential()\n",
    "base_model2.add(Dense(10, input_dim = in_dim, activation = 'relu'))\n",
    "base_model2.add(Dense(8, activation = 'relu'))\n",
    "base_model2.add(Dense(1, activation = 'sigmoid'))\n",
    "\n",
    "#baseline model 3 (2 hidden layers)\n",
    "base_model3 = Sequential()\n",
    "base_model3.add(Dense(10, input_dim = in_dim, activation = 'relu'))\n",
    "base_model3.add(Dense(8, activation = 'relu'))\n",
    "base_model3.add(Dense(4, activation = 'relu'))\n",
    "base_model3.add(Dense(1, activation = 'sigmoid'))"
   ]
  },
  {
   "cell_type": "markdown",
   "id": "ebad1ced-3a8b-4eca-9868-90eac356f041",
   "metadata": {},
   "source": [
    "#### Alternative Models - Sigmoid"
   ]
  },
  {
   "cell_type": "code",
   "execution_count": 24,
   "id": "2fa66b2b-04cf-45f3-bc42-d6fc1ee00e34",
   "metadata": {},
   "outputs": [],
   "source": [
    "sigmoid1 = Sequential()\n",
    "sigmoid1.add(Dense(10, input_dim = in_dim, activation = 'sigmoid'))\n",
    "sigmoid1.add(Dense(8, activation = 'sigmoid'))\n",
    "sigmoid1.add(Dense(1, activation = 'sigmoid'))"
   ]
  },
  {
   "cell_type": "markdown",
   "id": "925e0f2a-5a32-415f-a4cc-1b87f661dcb4",
   "metadata": {},
   "source": [
    "#### Alternative Models - Other Architectures"
   ]
  },
  {
   "cell_type": "code",
   "execution_count": 25,
   "id": "4ed2e16d-5095-4972-b406-df8b8b9188e5",
   "metadata": {},
   "outputs": [],
   "source": [
    "#testing other smaller and larger architectures\n",
    "#smallest nn\n",
    "small1 = Sequential()\n",
    "small1.add(Dense(2, input_dim = in_dim, activation = 'relu'))\n",
    "small1.add(Dense(1, activation = 'sigmoid'))\n",
    "\n",
    "#larger nn, 4 layer, more neurons\n",
    "large1 = Sequential()\n",
    "large1.add(Dense(18, input_dim = in_dim, activation = 'relu'))\n",
    "large1.add(Dense(8, activation = 'relu'))\n",
    "large1.add(Dense(4, activation = 'relu'))\n",
    "large1.add(Dense(1, activation = 'sigmoid'))\n",
    "\n",
    "#overfitting model\n",
    "overfit = Sequential()\n",
    "overfit.add(Dense(256, input_dim = in_dim, activation = 'relu'))\n",
    "overfit.add(Dense(256, activation = 'relu'))\n",
    "overfit.add(Dense(256, activation = 'relu'))\n",
    "overfit.add(Dense(256, activation = 'relu'))\n",
    "overfit.add(Dense(256, activation = 'relu'))\n",
    "overfit.add(Dense(1, activation = 'sigmoid'))"
   ]
  },
  {
   "cell_type": "markdown",
   "id": "7dd61c49-9610-4a55-94bc-455fd966e9a5",
   "metadata": {},
   "source": [
    "#### Model Compile and Training"
   ]
  },
  {
   "cell_type": "code",
   "execution_count": 26,
   "id": "d563bc85-689f-47eb-a311-b7e9a645f9a6",
   "metadata": {
    "tags": []
   },
   "outputs": [
    {
     "name": "stdout",
     "output_type": "stream",
     "text": [
      "WARNING:tensorflow:From C:\\Users\\Kiko\\anaconda3\\Lib\\site-packages\\keras\\src\\optimizers\\__init__.py:309: The name tf.train.Optimizer is deprecated. Please use tf.compat.v1.train.Optimizer instead.\n",
      "\n"
     ]
    }
   ],
   "source": [
    "#compile model\n",
    "base_model1.compile(loss='binary_crossentropy', optimizer='adam', metrics=['accuracy'])\n",
    "base_model2.compile(loss = 'binary_crossentropy', optimizer = 'adam', metrics=['accuracy'])\n",
    "base_model3.compile(loss = 'binary_crossentropy', optimizer = 'adam', metrics=['accuracy'])\n",
    "\n",
    "#sigmoid models\n",
    "sigmoid1.compile(loss='binary_crossentropy', optimizer='adam', metrics=['accuracy'])\n",
    "\n",
    "#alt models\n",
    "small1.compile(loss='binary_crossentropy', optimizer='adam', metrics=['accuracy'])\n",
    "large1.compile(loss='binary_crossentropy', optimizer='adam', metrics=['accuracy'])\n",
    "overfit.compile(loss='binary_crossentropy', optimizer='adam', metrics=['accuracy'])"
   ]
  },
  {
   "cell_type": "code",
   "execution_count": 27,
   "id": "4893ab02-870b-4fdb-85c9-5efb038bc09f",
   "metadata": {},
   "outputs": [],
   "source": [
    "#model checkpointing and early stopping callbacks\n",
    "#checkpoint for base model 1\n",
    "callback_a = ModelCheckpoint(filepath='base_model1.hdf5', monitor='val_loss', save_best_only = True, \n",
    "                             save_weights_only = True, verbose = 0)\n",
    "#checkpoint for base model 2\n",
    "callback_b = ModelCheckpoint(filepath='base_model2.hdf5', monitor='val_loss', save_best_only = True, \n",
    "                             save_weights_only = True, verbose = 0)\n",
    "#checkpoint for base model 3\n",
    "callback_c = ModelCheckpoint(filepath='base_model3.hdf5', monitor='val_loss', save_best_only = True, \n",
    "                             save_weights_only = True, verbose = 0)\n",
    "\n",
    "#checkpoint for sigmoid model\n",
    "callback_d = ModelCheckpoint(filepath='sig1.hdf5', monitor='val_loss', save_best_only = True, \n",
    "                             save_weights_only = True, verbose = 0)\n",
    "\n",
    "#checkpoint for alternative models\n",
    "callback_e = ModelCheckpoint(filepath='small1.hdf5', monitor='val_loss', save_best_only = True, \n",
    "                             save_weights_only = True, verbose = 0)\n",
    "callback_f = ModelCheckpoint(filepath='large1.hdf5', monitor='val_loss', save_best_only = True, \n",
    "                             save_weights_only = True, verbose = 0)\n",
    "callback_g = ModelCheckpoint(filepath='overfit.hdf5', monitor='val_loss', save_best_only = True, \n",
    "                             save_weights_only = True, verbose = 0)\n",
    "#early stopping callback\n",
    "callback_x = EarlyStopping(monitor='val_loss', mode='min', patience=20, verbose=1)"
   ]
  },
  {
   "cell_type": "markdown",
   "id": "dcc3d96f-39e1-4e05-af10-47b463c58f3f",
   "metadata": {},
   "source": [
    "##### Base Model - Training"
   ]
  },
  {
   "cell_type": "code",
   "execution_count": 28,
   "id": "7b86fb6d-adf9-49f1-afa5-b8639e184807",
   "metadata": {
    "tags": []
   },
   "outputs": [
    {
     "name": "stdout",
     "output_type": "stream",
     "text": [
      "WARNING:tensorflow:From C:\\Users\\Kiko\\anaconda3\\Lib\\site-packages\\keras\\src\\utils\\tf_utils.py:492: The name tf.ragged.RaggedTensorValue is deprecated. Please use tf.compat.v1.ragged.RaggedTensorValue instead.\n",
      "\n",
      "WARNING:tensorflow:From C:\\Users\\Kiko\\anaconda3\\Lib\\site-packages\\keras\\src\\engine\\base_layer_utils.py:384: The name tf.executing_eagerly_outside_functions is deprecated. Please use tf.compat.v1.executing_eagerly_outside_functions instead.\n",
      "\n"
     ]
    }
   ],
   "source": [
    "#fitting model and storing into history variables\n",
    "history1 = base_model1.fit(XTRAIN_sc, YTRAIN, validation_data = (XTEST_sc, YTEST), epochs = 512, batch_size = 128, verbose = 0,\n",
    "                          callbacks= [callback_a, callback_x])"
   ]
  },
  {
   "cell_type": "code",
   "execution_count": 29,
   "id": "dcb7afc1-8004-4617-9b41-8955de6f4d16",
   "metadata": {},
   "outputs": [
    {
     "name": "stdout",
     "output_type": "stream",
     "text": [
      "Epoch 265: early stopping\n"
     ]
    }
   ],
   "source": [
    "history2 = base_model2.fit(XTRAIN_sc, YTRAIN, validation_data = (XTEST_sc, YTEST), epochs = 512, batch_size = 128, verbose = 0,\n",
    "                          callbacks=[callback_b, callback_x])"
   ]
  },
  {
   "cell_type": "code",
   "execution_count": 30,
   "id": "3a488f91-4a6a-48ac-8a9d-120fe4a87cc8",
   "metadata": {
    "tags": []
   },
   "outputs": [
    {
     "name": "stdout",
     "output_type": "stream",
     "text": [
      "Epoch 249: early stopping\n"
     ]
    }
   ],
   "source": [
    "history3 = base_model3.fit(XTRAIN_sc, YTRAIN, validation_data = (XTEST_sc, YTEST), epochs = 512, batch_size = 128, verbose = 0,\n",
    "                          callbacks=[callback_c, callback_x])"
   ]
  },
  {
   "cell_type": "markdown",
   "id": "3dd87718-a706-4755-b209-06a601ce6689",
   "metadata": {
    "tags": []
   },
   "source": [
    "##### Sigmoid Model Training"
   ]
  },
  {
   "cell_type": "code",
   "execution_count": 31,
   "id": "501ad9a0-f357-4ee4-8e32-f04d3cc26313",
   "metadata": {},
   "outputs": [
    {
     "ename": "KeyboardInterrupt",
     "evalue": "",
     "output_type": "error",
     "traceback": [
      "\u001b[1;31m---------------------------------------------------------------------------\u001b[0m",
      "\u001b[1;31mKeyboardInterrupt\u001b[0m                         Traceback (most recent call last)",
      "Cell \u001b[1;32mIn[31], line 1\u001b[0m\n\u001b[1;32m----> 1\u001b[0m history6 \u001b[38;5;241m=\u001b[39m sigmoid1\u001b[38;5;241m.\u001b[39mfit(XTRAIN_sc, YTRAIN, validation_data \u001b[38;5;241m=\u001b[39m (XTEST_sc, YTEST), epochs \u001b[38;5;241m=\u001b[39m \u001b[38;5;241m512\u001b[39m, batch_size \u001b[38;5;241m=\u001b[39m \u001b[38;5;241m128\u001b[39m, verbose \u001b[38;5;241m=\u001b[39m \u001b[38;5;241m0\u001b[39m,\n\u001b[0;32m      2\u001b[0m                           callbacks\u001b[38;5;241m=\u001b[39m[callback_d, callback_x])\n",
      "File \u001b[1;32m~\\anaconda3\\Lib\\site-packages\\keras\\src\\utils\\traceback_utils.py:65\u001b[0m, in \u001b[0;36mfilter_traceback.<locals>.error_handler\u001b[1;34m(*args, **kwargs)\u001b[0m\n\u001b[0;32m     63\u001b[0m filtered_tb \u001b[38;5;241m=\u001b[39m \u001b[38;5;28;01mNone\u001b[39;00m\n\u001b[0;32m     64\u001b[0m \u001b[38;5;28;01mtry\u001b[39;00m:\n\u001b[1;32m---> 65\u001b[0m     \u001b[38;5;28;01mreturn\u001b[39;00m fn(\u001b[38;5;241m*\u001b[39margs, \u001b[38;5;241m*\u001b[39m\u001b[38;5;241m*\u001b[39mkwargs)\n\u001b[0;32m     66\u001b[0m \u001b[38;5;28;01mexcept\u001b[39;00m \u001b[38;5;167;01mException\u001b[39;00m \u001b[38;5;28;01mas\u001b[39;00m e:\n\u001b[0;32m     67\u001b[0m     filtered_tb \u001b[38;5;241m=\u001b[39m _process_traceback_frames(e\u001b[38;5;241m.\u001b[39m__traceback__)\n",
      "File \u001b[1;32m~\\anaconda3\\Lib\\site-packages\\keras\\src\\engine\\training.py:1874\u001b[0m, in \u001b[0;36mModel.fit\u001b[1;34m(self, x, y, batch_size, epochs, verbose, callbacks, validation_split, validation_data, shuffle, class_weight, sample_weight, initial_epoch, steps_per_epoch, validation_steps, validation_batch_size, validation_freq, max_queue_size, workers, use_multiprocessing)\u001b[0m\n\u001b[0;32m   1869\u001b[0m     val_logs \u001b[38;5;241m=\u001b[39m {\n\u001b[0;32m   1870\u001b[0m         \u001b[38;5;124m\"\u001b[39m\u001b[38;5;124mval_\u001b[39m\u001b[38;5;124m\"\u001b[39m \u001b[38;5;241m+\u001b[39m name: val \u001b[38;5;28;01mfor\u001b[39;00m name, val \u001b[38;5;129;01min\u001b[39;00m val_logs\u001b[38;5;241m.\u001b[39mitems()\n\u001b[0;32m   1871\u001b[0m     }\n\u001b[0;32m   1872\u001b[0m     epoch_logs\u001b[38;5;241m.\u001b[39mupdate(val_logs)\n\u001b[1;32m-> 1874\u001b[0m callbacks\u001b[38;5;241m.\u001b[39mon_epoch_end(epoch, epoch_logs)\n\u001b[0;32m   1875\u001b[0m training_logs \u001b[38;5;241m=\u001b[39m epoch_logs\n\u001b[0;32m   1876\u001b[0m \u001b[38;5;28;01mif\u001b[39;00m \u001b[38;5;28mself\u001b[39m\u001b[38;5;241m.\u001b[39mstop_training:\n",
      "File \u001b[1;32m~\\anaconda3\\Lib\\site-packages\\keras\\src\\callbacks.py:453\u001b[0m, in \u001b[0;36mCallbackList.on_epoch_end\u001b[1;34m(self, epoch, logs)\u001b[0m\n\u001b[0;32m    451\u001b[0m logs \u001b[38;5;241m=\u001b[39m \u001b[38;5;28mself\u001b[39m\u001b[38;5;241m.\u001b[39m_process_logs(logs)\n\u001b[0;32m    452\u001b[0m \u001b[38;5;28;01mfor\u001b[39;00m callback \u001b[38;5;129;01min\u001b[39;00m \u001b[38;5;28mself\u001b[39m\u001b[38;5;241m.\u001b[39mcallbacks:\n\u001b[1;32m--> 453\u001b[0m     callback\u001b[38;5;241m.\u001b[39mon_epoch_end(epoch, logs)\n",
      "File \u001b[1;32m~\\anaconda3\\Lib\\site-packages\\keras\\src\\callbacks.py:1483\u001b[0m, in \u001b[0;36mModelCheckpoint.on_epoch_end\u001b[1;34m(self, epoch, logs)\u001b[0m\n\u001b[0;32m   1480\u001b[0m \u001b[38;5;28mself\u001b[39m\u001b[38;5;241m.\u001b[39mepochs_since_last_save \u001b[38;5;241m+\u001b[39m\u001b[38;5;241m=\u001b[39m \u001b[38;5;241m1\u001b[39m\n\u001b[0;32m   1482\u001b[0m \u001b[38;5;28;01mif\u001b[39;00m \u001b[38;5;28mself\u001b[39m\u001b[38;5;241m.\u001b[39msave_freq \u001b[38;5;241m==\u001b[39m \u001b[38;5;124m\"\u001b[39m\u001b[38;5;124mepoch\u001b[39m\u001b[38;5;124m\"\u001b[39m:\n\u001b[1;32m-> 1483\u001b[0m     \u001b[38;5;28mself\u001b[39m\u001b[38;5;241m.\u001b[39m_save_model(epoch\u001b[38;5;241m=\u001b[39mepoch, batch\u001b[38;5;241m=\u001b[39m\u001b[38;5;28;01mNone\u001b[39;00m, logs\u001b[38;5;241m=\u001b[39mlogs)\n",
      "File \u001b[1;32m~\\anaconda3\\Lib\\site-packages\\keras\\src\\callbacks.py:1551\u001b[0m, in \u001b[0;36mModelCheckpoint._save_model\u001b[1;34m(self, epoch, batch, logs)\u001b[0m\n\u001b[0;32m   1548\u001b[0m     \u001b[38;5;28mself\u001b[39m\u001b[38;5;241m.\u001b[39mbest \u001b[38;5;241m=\u001b[39m current\n\u001b[0;32m   1550\u001b[0m     \u001b[38;5;66;03m# Handles saving and corresponding options\u001b[39;00m\n\u001b[1;32m-> 1551\u001b[0m     \u001b[38;5;28mself\u001b[39m\u001b[38;5;241m.\u001b[39m_save_handler(filepath)\n\u001b[0;32m   1552\u001b[0m \u001b[38;5;28;01melse\u001b[39;00m:\n\u001b[0;32m   1553\u001b[0m     \u001b[38;5;28;01mif\u001b[39;00m \u001b[38;5;28mself\u001b[39m\u001b[38;5;241m.\u001b[39mverbose \u001b[38;5;241m>\u001b[39m \u001b[38;5;241m0\u001b[39m:\n",
      "File \u001b[1;32m~\\anaconda3\\Lib\\site-packages\\keras\\src\\callbacks.py:1595\u001b[0m, in \u001b[0;36mModelCheckpoint._save_handler\u001b[1;34m(self, filepath)\u001b[0m\n\u001b[0;32m   1590\u001b[0m         \u001b[38;5;28mself\u001b[39m\u001b[38;5;241m.\u001b[39mmodel\u001b[38;5;241m.\u001b[39msave_weights(\n\u001b[0;32m   1591\u001b[0m             filepath,\n\u001b[0;32m   1592\u001b[0m             overwrite\u001b[38;5;241m=\u001b[39m\u001b[38;5;28;01mTrue\u001b[39;00m,\n\u001b[0;32m   1593\u001b[0m         )\n\u001b[0;32m   1594\u001b[0m     \u001b[38;5;28;01melse\u001b[39;00m:\n\u001b[1;32m-> 1595\u001b[0m         \u001b[38;5;28mself\u001b[39m\u001b[38;5;241m.\u001b[39mmodel\u001b[38;5;241m.\u001b[39msave_weights(\n\u001b[0;32m   1596\u001b[0m             filepath,\n\u001b[0;32m   1597\u001b[0m             overwrite\u001b[38;5;241m=\u001b[39m\u001b[38;5;28;01mTrue\u001b[39;00m,\n\u001b[0;32m   1598\u001b[0m             options\u001b[38;5;241m=\u001b[39m\u001b[38;5;28mself\u001b[39m\u001b[38;5;241m.\u001b[39m_options,\n\u001b[0;32m   1599\u001b[0m         )\n\u001b[0;32m   1600\u001b[0m \u001b[38;5;28;01melse\u001b[39;00m:\n\u001b[0;32m   1601\u001b[0m     \u001b[38;5;28;01mif\u001b[39;00m filepath\u001b[38;5;241m.\u001b[39mendswith(\u001b[38;5;124m\"\u001b[39m\u001b[38;5;124m.keras\u001b[39m\u001b[38;5;124m\"\u001b[39m):\n",
      "File \u001b[1;32m~\\anaconda3\\Lib\\site-packages\\keras\\src\\utils\\traceback_utils.py:65\u001b[0m, in \u001b[0;36mfilter_traceback.<locals>.error_handler\u001b[1;34m(*args, **kwargs)\u001b[0m\n\u001b[0;32m     63\u001b[0m filtered_tb \u001b[38;5;241m=\u001b[39m \u001b[38;5;28;01mNone\u001b[39;00m\n\u001b[0;32m     64\u001b[0m \u001b[38;5;28;01mtry\u001b[39;00m:\n\u001b[1;32m---> 65\u001b[0m     \u001b[38;5;28;01mreturn\u001b[39;00m fn(\u001b[38;5;241m*\u001b[39margs, \u001b[38;5;241m*\u001b[39m\u001b[38;5;241m*\u001b[39mkwargs)\n\u001b[0;32m     66\u001b[0m \u001b[38;5;28;01mexcept\u001b[39;00m \u001b[38;5;167;01mException\u001b[39;00m \u001b[38;5;28;01mas\u001b[39;00m e:\n\u001b[0;32m     67\u001b[0m     filtered_tb \u001b[38;5;241m=\u001b[39m _process_traceback_frames(e\u001b[38;5;241m.\u001b[39m__traceback__)\n",
      "File \u001b[1;32m~\\anaconda3\\Lib\\site-packages\\keras\\src\\engine\\training.py:3175\u001b[0m, in \u001b[0;36mModel.save_weights\u001b[1;34m(self, filepath, overwrite, save_format, options)\u001b[0m\n\u001b[0;32m   3111\u001b[0m \u001b[38;5;129m@traceback_utils\u001b[39m\u001b[38;5;241m.\u001b[39mfilter_traceback\n\u001b[0;32m   3112\u001b[0m \u001b[38;5;28;01mdef\u001b[39;00m \u001b[38;5;21msave_weights\u001b[39m(\n\u001b[0;32m   3113\u001b[0m     \u001b[38;5;28mself\u001b[39m, filepath, overwrite\u001b[38;5;241m=\u001b[39m\u001b[38;5;28;01mTrue\u001b[39;00m, save_format\u001b[38;5;241m=\u001b[39m\u001b[38;5;28;01mNone\u001b[39;00m, options\u001b[38;5;241m=\u001b[39m\u001b[38;5;28;01mNone\u001b[39;00m\n\u001b[0;32m   3114\u001b[0m ):\n\u001b[0;32m   3115\u001b[0m \u001b[38;5;250m    \u001b[39m\u001b[38;5;124;03m\"\"\"Saves all layer weights.\u001b[39;00m\n\u001b[0;32m   3116\u001b[0m \n\u001b[0;32m   3117\u001b[0m \u001b[38;5;124;03m    Either saves in HDF5 or in TensorFlow format based on the `save_format`\u001b[39;00m\n\u001b[1;32m   (...)\u001b[0m\n\u001b[0;32m   3173\u001b[0m \u001b[38;5;124;03m            HDF5 format.\u001b[39;00m\n\u001b[0;32m   3174\u001b[0m \u001b[38;5;124;03m    \"\"\"\u001b[39;00m\n\u001b[1;32m-> 3175\u001b[0m     saving_api\u001b[38;5;241m.\u001b[39msave_weights(\n\u001b[0;32m   3176\u001b[0m         \u001b[38;5;28mself\u001b[39m,\n\u001b[0;32m   3177\u001b[0m         filepath\u001b[38;5;241m=\u001b[39mfilepath,\n\u001b[0;32m   3178\u001b[0m         overwrite\u001b[38;5;241m=\u001b[39moverwrite,\n\u001b[0;32m   3179\u001b[0m         save_format\u001b[38;5;241m=\u001b[39msave_format,\n\u001b[0;32m   3180\u001b[0m         options\u001b[38;5;241m=\u001b[39moptions,\n\u001b[0;32m   3181\u001b[0m     )\n",
      "File \u001b[1;32m~\\anaconda3\\Lib\\site-packages\\keras\\src\\saving\\saving_api.py:284\u001b[0m, in \u001b[0;36msave_weights\u001b[1;34m(model, filepath, overwrite, **kwargs)\u001b[0m\n\u001b[0;32m    282\u001b[0m     saving_lib\u001b[38;5;241m.\u001b[39msave_weights_only(model, filepath)\n\u001b[0;32m    283\u001b[0m \u001b[38;5;28;01melse\u001b[39;00m:\n\u001b[1;32m--> 284\u001b[0m     legacy_sm_saving_lib\u001b[38;5;241m.\u001b[39msave_weights(\n\u001b[0;32m    285\u001b[0m         model, filepath, overwrite\u001b[38;5;241m=\u001b[39moverwrite, \u001b[38;5;241m*\u001b[39m\u001b[38;5;241m*\u001b[39mkwargs\n\u001b[0;32m    286\u001b[0m     )\n",
      "File \u001b[1;32m~\\anaconda3\\Lib\\site-packages\\keras\\src\\saving\\legacy\\save.py:370\u001b[0m, in \u001b[0;36msave_weights\u001b[1;34m(model, filepath, overwrite, save_format, options)\u001b[0m\n\u001b[0;32m    368\u001b[0m \u001b[38;5;28;01mif\u001b[39;00m save_format \u001b[38;5;241m==\u001b[39m \u001b[38;5;124m\"\u001b[39m\u001b[38;5;124mh5\u001b[39m\u001b[38;5;124m\"\u001b[39m:\n\u001b[0;32m    369\u001b[0m     \u001b[38;5;28;01mwith\u001b[39;00m h5py\u001b[38;5;241m.\u001b[39mFile(filepath, \u001b[38;5;124m\"\u001b[39m\u001b[38;5;124mw\u001b[39m\u001b[38;5;124m\"\u001b[39m) \u001b[38;5;28;01mas\u001b[39;00m f:\n\u001b[1;32m--> 370\u001b[0m         hdf5_format\u001b[38;5;241m.\u001b[39msave_weights_to_hdf5_group(f, model)\n\u001b[0;32m    371\u001b[0m \u001b[38;5;28;01melse\u001b[39;00m:\n\u001b[0;32m    372\u001b[0m     \u001b[38;5;28;01mif\u001b[39;00m \u001b[38;5;129;01mnot\u001b[39;00m tf\u001b[38;5;241m.\u001b[39mexecuting_eagerly():\n\u001b[0;32m    373\u001b[0m         \u001b[38;5;66;03m# Call `get_session` to initialize any uninitialized variables.\u001b[39;00m\n",
      "File \u001b[1;32m~\\anaconda3\\Lib\\site-packages\\keras\\src\\saving\\legacy\\hdf5_format.py:757\u001b[0m, in \u001b[0;36msave_weights_to_hdf5_group\u001b[1;34m(f, model)\u001b[0m\n\u001b[0;32m    755\u001b[0m     g \u001b[38;5;241m=\u001b[39m f\u001b[38;5;241m.\u001b[39mcreate_group(layer\u001b[38;5;241m.\u001b[39mname)\n\u001b[0;32m    756\u001b[0m     weights \u001b[38;5;241m=\u001b[39m _legacy_weights(layer)\n\u001b[1;32m--> 757\u001b[0m     save_subset_weights_to_hdf5_group(g, weights)\n\u001b[0;32m    758\u001b[0m weights \u001b[38;5;241m=\u001b[39m model\u001b[38;5;241m.\u001b[39m_trainable_weights \u001b[38;5;241m+\u001b[39m model\u001b[38;5;241m.\u001b[39m_non_trainable_weights\n\u001b[0;32m    759\u001b[0m g \u001b[38;5;241m=\u001b[39m f\u001b[38;5;241m.\u001b[39mcreate_group(\u001b[38;5;124m\"\u001b[39m\u001b[38;5;124mtop_level_model_weights\u001b[39m\u001b[38;5;124m\"\u001b[39m)\n",
      "File \u001b[1;32m~\\anaconda3\\Lib\\site-packages\\keras\\src\\saving\\legacy\\hdf5_format.py:728\u001b[0m, in \u001b[0;36msave_subset_weights_to_hdf5_group\u001b[1;34m(f, weights)\u001b[0m\n\u001b[0;32m    726\u001b[0m weight_names \u001b[38;5;241m=\u001b[39m [w\u001b[38;5;241m.\u001b[39mname\u001b[38;5;241m.\u001b[39mencode(\u001b[38;5;124m\"\u001b[39m\u001b[38;5;124mutf8\u001b[39m\u001b[38;5;124m\"\u001b[39m) \u001b[38;5;28;01mfor\u001b[39;00m w \u001b[38;5;129;01min\u001b[39;00m weights]\n\u001b[0;32m    727\u001b[0m save_attributes_to_hdf5_group(f, \u001b[38;5;124m\"\u001b[39m\u001b[38;5;124mweight_names\u001b[39m\u001b[38;5;124m\"\u001b[39m, weight_names)\n\u001b[1;32m--> 728\u001b[0m \u001b[38;5;28;01mfor\u001b[39;00m name, val \u001b[38;5;129;01min\u001b[39;00m \u001b[38;5;28mzip\u001b[39m(weight_names, weight_values):\n\u001b[0;32m    729\u001b[0m     param_dset \u001b[38;5;241m=\u001b[39m f\u001b[38;5;241m.\u001b[39mcreate_dataset(name, val\u001b[38;5;241m.\u001b[39mshape, dtype\u001b[38;5;241m=\u001b[39mval\u001b[38;5;241m.\u001b[39mdtype)\n\u001b[0;32m    730\u001b[0m     \u001b[38;5;28;01mif\u001b[39;00m \u001b[38;5;129;01mnot\u001b[39;00m val\u001b[38;5;241m.\u001b[39mshape:\n\u001b[0;32m    731\u001b[0m         \u001b[38;5;66;03m# scalar\u001b[39;00m\n",
      "\u001b[1;31mKeyboardInterrupt\u001b[0m: "
     ]
    }
   ],
   "source": [
    "history6 = sigmoid1.fit(XTRAIN_sc, YTRAIN, validation_data = (XTEST_sc, YTEST), epochs = 512, batch_size = 128, verbose = 0,\n",
    "                          callbacks=[callback_d, callback_x])"
   ]
  },
  {
   "cell_type": "markdown",
   "id": "fc2a11e2-b340-4707-97d8-a62629c15b0c",
   "metadata": {},
   "source": [
    "Alternative Model Training"
   ]
  },
  {
   "cell_type": "code",
   "execution_count": null,
   "id": "9c07e157-6eba-4bda-9223-c2334dc33f8f",
   "metadata": {},
   "outputs": [],
   "source": [
    "history7 = small1.fit(XTRAIN_sc, YTRAIN, validation_data = (XTEST_sc, YTEST), epochs = 512, batch_size = 128, verbose = 0,\n",
    "                          callbacks=[callback_e, callback_x])"
   ]
  },
  {
   "cell_type": "code",
   "execution_count": null,
   "id": "650a6bbd-2032-4665-b88f-181ac8d6c5eb",
   "metadata": {},
   "outputs": [],
   "source": [
    "history9 = large1.fit(XTRAIN_sc, YTRAIN, validation_data = (XTEST_sc, YTEST), epochs = 512, batch_size = 128, verbose = 0,\n",
    "                          callbacks=[callback_f, callback_x])"
   ]
  },
  {
   "cell_type": "code",
   "execution_count": null,
   "id": "f9893cb8-211b-46a5-901c-e0ba9742e0a7",
   "metadata": {},
   "outputs": [],
   "source": [
    "history10 = overfit.fit(XTRAIN_sc, YTRAIN, validation_data = (XTEST_sc, YTEST), epochs = 512, batch_size = 128, verbose = 0,\n",
    "                          callbacks=[callback_g, callback_x])"
   ]
  },
  {
   "cell_type": "markdown",
   "id": "e4a463d4-08c2-4a2e-b081-29c251799eeb",
   "metadata": {},
   "source": [
    "#### Evaluating Baseline Models"
   ]
  },
  {
   "cell_type": "code",
   "execution_count": null,
   "id": "0823d686-fa13-4967-beda-78173df09382",
   "metadata": {
    "tags": []
   },
   "outputs": [],
   "source": [
    "#loading best weights for baseline models\n",
    "base_model1.load_weights('base_model1.hdf5')\n",
    "base_model2.load_weights('base_model2.hdf5')\n",
    "base_model3.load_weights('base_model3.hdf5')"
   ]
  },
  {
   "cell_type": "code",
   "execution_count": null,
   "id": "28ac8333-0ce7-41e9-91a2-5095f9398e7c",
   "metadata": {
    "tags": []
   },
   "outputs": [],
   "source": [
    "#evaluating base models on training sets\n",
    "P1 = base_model1.predict(XTRAIN_sc)\n",
    "a1 = base_model1.evaluate(XTRAIN_sc, YTRAIN)"
   ]
  },
  {
   "cell_type": "code",
   "execution_count": null,
   "id": "16854598-e69a-43f4-94de-691eb3706d9f",
   "metadata": {
    "tags": []
   },
   "outputs": [],
   "source": [
    "P2 = base_model2.predict(XTRAIN_sc)\n",
    "a2 = base_model2.evaluate(XTRAIN_sc, YTRAIN)"
   ]
  },
  {
   "cell_type": "code",
   "execution_count": null,
   "id": "365e9990-8420-455d-b13e-19d0ed3aab6f",
   "metadata": {
    "tags": []
   },
   "outputs": [],
   "source": [
    "P3 = base_model3.predict(XTRAIN_sc)\n",
    "a3 = base_model3.evaluate(XTRAIN_sc, YTRAIN)"
   ]
  },
  {
   "cell_type": "code",
   "execution_count": null,
   "id": "b04c33aa-9c12-48cf-ac48-d22e80007244",
   "metadata": {
    "tags": []
   },
   "outputs": [],
   "source": [
    "#evaluating base models on validation sets\n",
    "P1 = base_model1.predict(XTEST_sc)\n",
    "va1 = base_model1.evaluate(XTEST_sc, YTEST)"
   ]
  },
  {
   "cell_type": "code",
   "execution_count": null,
   "id": "34e8b902-be4c-4aed-9e6c-82699ccfcddc",
   "metadata": {
    "tags": []
   },
   "outputs": [],
   "source": [
    "P2 = base_model2.predict(XTEST_sc)\n",
    "va2 = base_model2.evaluate(XTEST_sc, YTEST)"
   ]
  },
  {
   "cell_type": "code",
   "execution_count": null,
   "id": "be6dc270-c8b8-4592-b107-7debade53f63",
   "metadata": {
    "tags": []
   },
   "outputs": [],
   "source": [
    "P3 = base_model3.predict(XTEST_sc)\n",
    "va3 = base_model3.evaluate(XTEST_sc, YTEST)"
   ]
  },
  {
   "cell_type": "markdown",
   "id": "a1c96a6c-d136-4722-961f-5464df086dff",
   "metadata": {},
   "source": [
    "#### Evaluating Sigmoid Models"
   ]
  },
  {
   "cell_type": "code",
   "execution_count": null,
   "id": "2e4fb335-3afa-42ac-a596-85aef2110697",
   "metadata": {},
   "outputs": [],
   "source": [
    "#load best weights for sigmoid model\n",
    "sigmoid1.load_weights('sig1.hdf5')"
   ]
  },
  {
   "cell_type": "code",
   "execution_count": null,
   "id": "067860fa-a7a5-4b0c-992a-45ec0cd6df99",
   "metadata": {},
   "outputs": [],
   "source": [
    "#evaluating sigmoid models on training sets\n",
    "P6 = sigmoid1.predict(XTRAIN_sc)\n",
    "a6 = sigmoid1.evaluate(XTRAIN_sc, YTRAIN)"
   ]
  },
  {
   "cell_type": "code",
   "execution_count": null,
   "id": "562dd139-854b-4f26-9459-121a25177b21",
   "metadata": {},
   "outputs": [],
   "source": [
    "#evaluating sigmoid models on validation sets\n",
    "P6 = sigmoid1.predict(XTEST_sc)\n",
    "va6 = sigmoid1.evaluate(XTEST_sc, YTEST)"
   ]
  },
  {
   "cell_type": "markdown",
   "id": "411923da-53fb-49d4-9a1c-0045e7e829c8",
   "metadata": {},
   "source": [
    "#### Evaluating Alternative Models"
   ]
  },
  {
   "cell_type": "code",
   "execution_count": null,
   "id": "749d7c57-4d84-4dfd-9e31-92ccad95f805",
   "metadata": {},
   "outputs": [],
   "source": [
    "#load best weights for other models\n",
    "small1.load_weights('small1.hdf5')\n",
    "large1.load_weights('large1.hdf5')\n",
    "overfit.load_weights('overfit.hdf5')"
   ]
  },
  {
   "cell_type": "code",
   "execution_count": null,
   "id": "21982f72-8801-43b4-af35-287b850dd0da",
   "metadata": {},
   "outputs": [],
   "source": [
    "#evaluating other models on training sets\n",
    "P7 = small1.predict(XTRAIN_sc)\n",
    "a7 = small1.evaluate(XTRAIN_sc, YTRAIN)"
   ]
  },
  {
   "cell_type": "code",
   "execution_count": null,
   "id": "57588074-6e55-4bda-aba7-a481e5fb613b",
   "metadata": {},
   "outputs": [],
   "source": [
    "#evaluating other models on training sets\n",
    "P9 = large1.predict(XTRAIN_sc)\n",
    "a9 = large1.evaluate(XTRAIN_sc, YTRAIN)"
   ]
  },
  {
   "cell_type": "code",
   "execution_count": null,
   "id": "dc111b33-7a3b-4ae3-b0a0-401b453c205c",
   "metadata": {},
   "outputs": [],
   "source": [
    "#evaluating other models on training sets\n",
    "P10 = overfit.predict(XTRAIN_sc)\n",
    "a10 = overfit.evaluate(XTRAIN_sc, YTRAIN)"
   ]
  },
  {
   "cell_type": "code",
   "execution_count": null,
   "id": "13ad500f-9a80-4ea9-a75f-f9fd259cdcb5",
   "metadata": {},
   "outputs": [],
   "source": [
    "#evaluating other models on validation sets\n",
    "P7 = small1.predict(XTEST_sc)\n",
    "va7 = small1.evaluate(XTEST_sc, YTEST)"
   ]
  },
  {
   "cell_type": "code",
   "execution_count": null,
   "id": "4c840692-e9d5-4cf0-b695-5f308862aa59",
   "metadata": {},
   "outputs": [],
   "source": [
    "#evaluating other models on validation sets\n",
    "P9 = large1.predict(XTEST_sc)\n",
    "va9 = large1.evaluate(XTEST_sc, YTEST)"
   ]
  },
  {
   "cell_type": "code",
   "execution_count": null,
   "id": "c95629da-fbf2-4c3b-8f3a-4bbdd47d8a09",
   "metadata": {},
   "outputs": [],
   "source": [
    "#evaluating other models on validation sets\n",
    "P10 = overfit.predict(XTEST_sc)\n",
    "va10 = overfit.evaluate(XTEST_sc, YTEST)"
   ]
  },
  {
   "cell_type": "markdown",
   "id": "411ee3be-ab68-412c-a2d5-15bdd12d920c",
   "metadata": {},
   "source": [
    "#### Accuracy Comparison"
   ]
  },
  {
   "cell_type": "code",
   "execution_count": null,
   "id": "9fba7134-9b13-48a2-acf9-ebd1a01f318e",
   "metadata": {},
   "outputs": [],
   "source": [
    "#putting values into dataframe\n",
    "data = [['Baseline Model (10-1)', a1[1]*100, va1[1]*100],\n",
    "       ['Baseline Model (10-8-1)', a2[1]*100, va2[1]*100],\n",
    "       ['Baseline Model (10-8-4-1)', a3[1]*100, va3[1]*100],\n",
    "       ['Sigmoid (all neurons)', a6[1]*100, va6[1]*100],\n",
    "       ['Neural Network (2-1)', a7[1]*100, va7[1]*100],\n",
    "       ['Neural Network (18-8-4-1)', a9[1]*100, va9[1]*100],\n",
    "       ['Overfit Model (64-16-8-4-1)', a10[1]*100, va10[1]*100]]\n",
    "acc_table = pd.DataFrame(data, columns=['Model', 'Training Accuracy', 'Validation Accuracy'])\n",
    "pd.set_option('display.precision', 2)\n",
    "print(acc_table)"
   ]
  },
  {
   "cell_type": "markdown",
   "id": "3a7f3049-99e6-4e91-b8b8-477858ec57a3",
   "metadata": {},
   "source": [
    "### Learning Curves"
   ]
  },
  {
   "cell_type": "markdown",
   "id": "139cbea8-97df-459b-8fee-6c2edf3440ca",
   "metadata": {},
   "source": [
    "#### Baseline Models"
   ]
  },
  {
   "cell_type": "code",
   "execution_count": null,
   "id": "45670e0e-6dc1-4c6a-b7d8-17558a29f7d6",
   "metadata": {
    "tags": []
   },
   "outputs": [],
   "source": [
    "#plotting learning curves for baseline models\n",
    "plt.figure(figsize=(5, 3))\n",
    "plt.plot(history1.history['accuracy'])\n",
    "plt.plot(history1.history['val_accuracy'])\n",
    "plt.ylabel('Accuracy')\n",
    "plt.xlabel('Epochs')\n",
    "plt.legend(['Training Data', 'Validation Data'], loc = 'lower right')\n",
    "plt.show()"
   ]
  },
  {
   "cell_type": "code",
   "execution_count": null,
   "id": "8fd362d7-754f-4416-b1a8-ab7b88f91025",
   "metadata": {
    "tags": []
   },
   "outputs": [],
   "source": [
    "#baseline model 1 loss\n",
    "plt.figure(figsize=(5, 3))\n",
    "plt.plot(history1.history['loss'])\n",
    "plt.plot(history1.history['val_loss'])\n",
    "plt.ylabel('Loss')\n",
    "plt.xlabel('Epochs')\n",
    "plt.legend(['Training Data', 'Validation Data'], loc = 'lower right')\n",
    "plt.show()"
   ]
  },
  {
   "cell_type": "code",
   "execution_count": null,
   "id": "1e36e1ea-3ee8-40fe-ab4e-ffadc505b65e",
   "metadata": {
    "tags": []
   },
   "outputs": [],
   "source": [
    "#baseline model 2 learning curve\n",
    "plt.figure(figsize=(5, 3))\n",
    "plt.plot(history2.history['accuracy'])\n",
    "plt.plot(history2.history['val_accuracy'])\n",
    "plt.ylabel('Accuracy')\n",
    "plt.xlabel('Epochs')\n",
    "plt.legend(['Training Data', 'Validation Data'], loc = 'lower right')\n",
    "plt.show()"
   ]
  },
  {
   "cell_type": "code",
   "execution_count": null,
   "id": "7c869fae-1366-42e2-a538-807f0aee263a",
   "metadata": {
    "tags": []
   },
   "outputs": [],
   "source": [
    "#baseline model 2 loss\n",
    "plt.figure(figsize=(5, 3))\n",
    "plt.plot(history2.history['loss'])\n",
    "plt.plot(history2.history['val_loss'])\n",
    "plt.ylabel('Loss')\n",
    "plt.xlabel('Epochs')\n",
    "plt.legend(['Training Data', 'Validation Data'], loc = 'lower right')\n",
    "plt.show()"
   ]
  },
  {
   "cell_type": "code",
   "execution_count": null,
   "id": "4c54f70c-aa76-4ea0-97cd-6bf246eea4e5",
   "metadata": {
    "tags": []
   },
   "outputs": [],
   "source": [
    "#baseline model 3 learning curve\n",
    "plt.figure(figsize=(5, 3))\n",
    "plt.plot(history3.history['accuracy'])\n",
    "plt.plot(history3.history['val_accuracy'])\n",
    "plt.ylabel('Accuracy')\n",
    "plt.xlabel('Epochs')\n",
    "plt.legend(['Training Data', 'Validation Data'], loc = 'lower right')\n",
    "plt.show()"
   ]
  },
  {
   "cell_type": "code",
   "execution_count": null,
   "id": "1a430e5b-5bb1-4580-bfea-7d01989a38a6",
   "metadata": {
    "tags": []
   },
   "outputs": [],
   "source": [
    "#baseline model 3 loss\n",
    "plt.figure(figsize=(5, 3))\n",
    "plt.plot(history3.history['loss'])\n",
    "plt.plot(history3.history['val_loss'])\n",
    "plt.ylabel('Loss')\n",
    "plt.xlabel('Epochs')\n",
    "plt.legend(['Training Data', 'Validation Data'], loc = 'lower right')\n",
    "plt.show()"
   ]
  },
  {
   "cell_type": "markdown",
   "id": "4514c32d-cd3c-4d35-b0d9-655e068720bf",
   "metadata": {},
   "source": [
    "##### Sigmoid Model"
   ]
  },
  {
   "cell_type": "code",
   "execution_count": null,
   "id": "382d0a37-ebf3-4213-af6b-fa7af19784bf",
   "metadata": {
    "tags": []
   },
   "outputs": [],
   "source": [
    "#sigmoid model learning curve\n",
    "plt.figure(figsize=(5, 3))\n",
    "plt.plot(history6.history['accuracy'])\n",
    "plt.plot(history6.history['val_accuracy'])\n",
    "plt.ylabel('Accuracy')\n",
    "plt.xlabel('Epochs')\n",
    "plt.legend(['Training Data', 'Validation Data'], loc = 'lower right')\n",
    "plt.show()"
   ]
  },
  {
   "cell_type": "code",
   "execution_count": null,
   "id": "e226acff-e6c7-45b0-a5b1-f34268d4814b",
   "metadata": {
    "tags": []
   },
   "outputs": [],
   "source": [
    "#sigmoid model loss\n",
    "plt.figure(figsize=(5, 3))\n",
    "plt.plot(history6.history['loss'])\n",
    "plt.plot(history6.history['val_loss'])\n",
    "plt.ylabel('Loss')\n",
    "plt.xlabel('Epochs')\n",
    "plt.legend(['Training Data', 'Validation Data'], loc = 'lower right')\n",
    "plt.show()"
   ]
  },
  {
   "cell_type": "markdown",
   "id": "46d34b83-8ef6-4d9a-b431-3d6a56aa5dae",
   "metadata": {},
   "source": [
    "##### Alternative Models"
   ]
  },
  {
   "cell_type": "code",
   "execution_count": null,
   "id": "58abc399-34c2-4e5a-8baf-1d1aff096fd2",
   "metadata": {
    "tags": []
   },
   "outputs": [],
   "source": [
    "#small nn 2-1 learning curve\n",
    "plt.figure(figsize=(5, 3))\n",
    "plt.plot(history7.history['accuracy'])\n",
    "plt.plot(history7.history['val_accuracy'])\n",
    "plt.ylabel('Accuracy')\n",
    "plt.xlabel('Epochs')\n",
    "plt.legend(['Training Data', 'Validation Data'], loc = 'lower right')\n",
    "plt.show()"
   ]
  },
  {
   "cell_type": "code",
   "execution_count": null,
   "id": "deebc578-97eb-4336-9a80-c2c775ea0d85",
   "metadata": {
    "tags": []
   },
   "outputs": [],
   "source": [
    "#small nn 2-1 loss\n",
    "plt.figure(figsize=(5, 3))\n",
    "plt.plot(history7.history['loss'])\n",
    "plt.plot(history7.history['val_loss'])\n",
    "plt.ylabel('Loss')\n",
    "plt.xlabel('Epochs')\n",
    "plt.legend(['Training Data', 'Validation Data'], loc = 'lower right')\n",
    "plt.show()"
   ]
  },
  {
   "cell_type": "code",
   "execution_count": null,
   "id": "6e4d83cf-ada4-4fb8-9f8b-5dc624da4922",
   "metadata": {
    "tags": []
   },
   "outputs": [],
   "source": [
    "#large nn 18-8-4-1 learning curve\n",
    "plt.figure(figsize=(5, 3))\n",
    "plt.plot(history9.history['accuracy'])\n",
    "plt.plot(history9.history['val_accuracy'])\n",
    "plt.ylabel('Accuracy')\n",
    "plt.xlabel('Epochs')\n",
    "plt.legend(['Training Data', 'Validation Data'], loc = 'lower right')\n",
    "plt.show()"
   ]
  },
  {
   "cell_type": "code",
   "execution_count": null,
   "id": "f74c97ec-b404-4128-bc92-160dc3bd2d5b",
   "metadata": {
    "tags": []
   },
   "outputs": [],
   "source": [
    "#large nn 18-8-4-1 loss\n",
    "plt.figure(figsize=(5, 3))\n",
    "plt.plot(history9.history['loss'])\n",
    "plt.plot(history9.history['val_loss'])\n",
    "plt.ylabel('Loss')\n",
    "plt.xlabel('Epochs')\n",
    "plt.legend(['Training Data', 'Validation Data'], loc = 'lower right')\n",
    "plt.show()"
   ]
  },
  {
   "cell_type": "code",
   "execution_count": null,
   "id": "f13c1348-3cb3-4652-aecd-ad9d5c826c9b",
   "metadata": {
    "tags": []
   },
   "outputs": [],
   "source": [
    "#overfit nn learning curve\n",
    "plt.figure(figsize=(5, 3))\n",
    "plt.plot(history10.history['accuracy'])\n",
    "plt.plot(history10.history['val_accuracy'])\n",
    "plt.ylabel('Accuracy')\n",
    "plt.xlabel('Epochs')\n",
    "plt.legend(['Training Data', 'Validation Data'], loc = 'lower right')\n",
    "plt.show()"
   ]
  },
  {
   "cell_type": "code",
   "execution_count": null,
   "id": "6e865e78-8bba-43f0-8194-e010f6c20f3a",
   "metadata": {
    "tags": []
   },
   "outputs": [],
   "source": [
    "#overfit nn loss\n",
    "plt.figure(figsize=(5, 3))\n",
    "plt.plot(history10.history['loss'])\n",
    "plt.plot(history10.history['val_loss'])\n",
    "plt.ylabel('Loss')\n",
    "plt.xlabel('Epochs')\n",
    "plt.legend(['Training Data', 'Validation Data'], loc = 'lower right')\n",
    "plt.show()"
   ]
  },
  {
   "cell_type": "code",
   "execution_count": null,
   "id": "f0fcab51-f1de-482b-ad9b-ff66e3972aa4",
   "metadata": {},
   "outputs": [],
   "source": []
  }
 ],
 "metadata": {
  "kernelspec": {
   "display_name": "Python 3 (ipykernel)",
   "language": "python",
   "name": "python3"
  },
  "language_info": {
   "codemirror_mode": {
    "name": "ipython",
    "version": 3
   },
   "file_extension": ".py",
   "mimetype": "text/x-python",
   "name": "python",
   "nbconvert_exporter": "python",
   "pygments_lexer": "ipython3",
   "version": "3.11.5"
  }
 },
 "nbformat": 4,
 "nbformat_minor": 5
}
